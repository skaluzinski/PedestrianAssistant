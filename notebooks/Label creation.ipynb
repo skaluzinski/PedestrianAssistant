{
 "cells": [
  {
   "cell_type": "code",
   "execution_count": 5,
   "id": "994fc648-5147-4600-9451-27216218170d",
   "metadata": {},
   "outputs": [
    {
     "name": "stdout",
     "output_type": "stream",
     "text": [
      "label_map.pbtxt created successfully.\n"
     ]
    }
   ],
   "source": [
    "import os\n",
    "\n",
    "# Directory containing the class directories\n",
    "data_dir = \"C:\\\\Users\\\\skaluzinski\\\\kaggle\\\\test\"\n",
    "\n",
    "# Output path for label_map.pbtxt\n",
    "output_path = \"C:\\\\Users\\\\skaluzinski\\\\training_specs\\\\label_map_copy.pbtxt\"\n",
    "\n",
    "# Initialize class ID counter\n",
    "class_id = 1\n",
    "\n",
    "# Open label_map.pbtxt file for writing\n",
    "with open(output_path, \"w\") as f:\n",
    "    # Iterate over subdirectories in the data directory\n",
    "    for subdir in os.listdir(data_dir):\n",
    "        # Create full path to the class directory\n",
    "        class_dir = os.path.join(data_dir, subdir)\n",
    "        \n",
    "        # Check if the subdirectory is actually a directory\n",
    "        if os.path.isdir(class_dir):\n",
    "            # Write class information to label_map.pbtxt\n",
    "            class_name = subdir\n",
    "            f.write(\"item {\\n\")\n",
    "            f.write(\"  id: {}\\n\".format(class_id))\n",
    "            f.write(\"  name: '{}'\\n\".format(class_name))\n",
    "            f.write(\"}\\n\\n\")\n",
    "            \n",
    "            # Increment class ID for the next class\n",
    "            class_id += 1\n",
    "\n",
    "print(\"label_map.pbtxt created successfully.\")\n"
   ]
  },
  {
   "cell_type": "code",
   "execution_count": null,
   "id": "800f3d93-dde1-4bc0-9669-65c006aba8fb",
   "metadata": {},
   "outputs": [],
   "source": []
  }
 ],
 "metadata": {
  "kernelspec": {
   "display_name": "Python 3 (ipykernel)",
   "language": "python",
   "name": "python3"
  },
  "language_info": {
   "codemirror_mode": {
    "name": "ipython",
    "version": 3
   },
   "file_extension": ".py",
   "mimetype": "text/x-python",
   "name": "python",
   "nbconvert_exporter": "python",
   "pygments_lexer": "ipython3",
   "version": "3.10.9"
  }
 },
 "nbformat": 4,
 "nbformat_minor": 5
}
